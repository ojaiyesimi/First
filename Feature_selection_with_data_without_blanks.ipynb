{
 "cells": [
  {
   "cell_type": "code",
   "execution_count": 1,
   "metadata": {},
   "outputs": [
    {
     "name": "stdout",
     "output_type": "stream",
     "text": [
      "Requirement already satisfied: pandas in c:\\users\\warre\\anaconda3\\lib\\site-packages (0.24.2)\n",
      "Requirement already satisfied: scipy in c:\\users\\warre\\anaconda3\\lib\\site-packages (1.2.1)\n",
      "Requirement already satisfied: numpy>=1.12.0 in c:\\users\\warre\\anaconda3\\lib\\site-packages (from pandas) (1.16.4)\n",
      "Requirement already satisfied: pytz>=2011k in c:\\users\\warre\\anaconda3\\lib\\site-packages (from pandas) (2019.1)\n",
      "Requirement already satisfied: python-dateutil>=2.5.0 in c:\\users\\warre\\anaconda3\\lib\\site-packages (from pandas) (2.8.0)\n",
      "Requirement already satisfied: six>=1.5 in c:\\users\\warre\\anaconda3\\lib\\site-packages (from python-dateutil>=2.5.0->pandas) (1.12.0)\n"
     ]
    }
   ],
   "source": [
    "!pip install pandas scipy"
   ]
  },
  {
   "cell_type": "code",
   "execution_count": 2,
   "metadata": {},
   "outputs": [],
   "source": [
    "%matplotlib inline\n",
    "\n",
    "import pandas as pd\n",
    "from scipy import stats\n",
    "import numpy as np"
   ]
  },
  {
   "cell_type": "code",
   "execution_count": 3,
   "metadata": {},
   "outputs": [
    {
     "data": {
      "text/html": [
       "<div>\n",
       "<style scoped>\n",
       "    .dataframe tbody tr th:only-of-type {\n",
       "        vertical-align: middle;\n",
       "    }\n",
       "\n",
       "    .dataframe tbody tr th {\n",
       "        vertical-align: top;\n",
       "    }\n",
       "\n",
       "    .dataframe thead th {\n",
       "        text-align: right;\n",
       "    }\n",
       "</style>\n",
       "<table border=\"1\" class=\"dataframe\">\n",
       "  <thead>\n",
       "    <tr style=\"text-align: right;\">\n",
       "      <th></th>\n",
       "      <th>row ID</th>\n",
       "      <th>311</th>\n",
       "      <th>342</th>\n",
       "      <th>367</th>\n",
       "      <th>394</th>\n",
       "      <th>410</th>\n",
       "      <th>425</th>\n",
       "      <th>616</th>\n",
       "      <th>683</th>\n",
       "      <th>689</th>\n",
       "      <th>...</th>\n",
       "      <th>1363</th>\n",
       "      <th>1365</th>\n",
       "      <th>1371</th>\n",
       "      <th>1375</th>\n",
       "      <th>1376</th>\n",
       "      <th>1377</th>\n",
       "      <th>1381</th>\n",
       "      <th>1382</th>\n",
       "      <th>1383</th>\n",
       "      <th>1384</th>\n",
       "    </tr>\n",
       "  </thead>\n",
       "  <tbody>\n",
       "    <tr>\n",
       "      <th>0</th>\n",
       "      <td>row m/z</td>\n",
       "      <td>5.205089e+02</td>\n",
       "      <td>2.832633e+02</td>\n",
       "      <td>3.732949e+02</td>\n",
       "      <td>360.362659</td>\n",
       "      <td>472.378724</td>\n",
       "      <td>2.311162e+02</td>\n",
       "      <td>2.992946e+02</td>\n",
       "      <td>554.514328</td>\n",
       "      <td>197.070924</td>\n",
       "      <td>...</td>\n",
       "      <td>758.221544</td>\n",
       "      <td>443.233134</td>\n",
       "      <td>718.538666</td>\n",
       "      <td>452.519139</td>\n",
       "      <td>458.472201</td>\n",
       "      <td>200.237387</td>\n",
       "      <td>2.110865e+02</td>\n",
       "      <td>415.206237</td>\n",
       "      <td>562.435864</td>\n",
       "      <td>391.202269</td>\n",
       "    </tr>\n",
       "    <tr>\n",
       "      <th>1</th>\n",
       "      <td>row retention time</td>\n",
       "      <td>2.126565e+01</td>\n",
       "      <td>1.610027e+01</td>\n",
       "      <td>1.251643e+01</td>\n",
       "      <td>14.825277</td>\n",
       "      <td>18.149760</td>\n",
       "      <td>4.053745e+00</td>\n",
       "      <td>1.930121e+01</td>\n",
       "      <td>20.375151</td>\n",
       "      <td>20.070147</td>\n",
       "      <td>...</td>\n",
       "      <td>20.247293</td>\n",
       "      <td>10.091549</td>\n",
       "      <td>18.839600</td>\n",
       "      <td>19.304242</td>\n",
       "      <td>18.488792</td>\n",
       "      <td>8.220203</td>\n",
       "      <td>1.289716e+01</td>\n",
       "      <td>12.233278</td>\n",
       "      <td>19.868606</td>\n",
       "      <td>3.523073</td>\n",
       "    </tr>\n",
       "    <tr>\n",
       "      <th>2</th>\n",
       "      <td>Bac_1</td>\n",
       "      <td>1.331073e+06</td>\n",
       "      <td>1.625182e+06</td>\n",
       "      <td>1.948986e+06</td>\n",
       "      <td>0.000000</td>\n",
       "      <td>0.000000</td>\n",
       "      <td>1.339515e+06</td>\n",
       "      <td>0.000000e+00</td>\n",
       "      <td>0.000000</td>\n",
       "      <td>395330.139000</td>\n",
       "      <td>...</td>\n",
       "      <td>0.000000</td>\n",
       "      <td>70221.927000</td>\n",
       "      <td>0.000000</td>\n",
       "      <td>0.000000</td>\n",
       "      <td>2848.300000</td>\n",
       "      <td>5796.570000</td>\n",
       "      <td>1.883929e+05</td>\n",
       "      <td>92642.711000</td>\n",
       "      <td>7223.708000</td>\n",
       "      <td>0.000000</td>\n",
       "    </tr>\n",
       "    <tr>\n",
       "      <th>3</th>\n",
       "      <td>Bac_2</td>\n",
       "      <td>1.102021e+06</td>\n",
       "      <td>1.407239e+06</td>\n",
       "      <td>1.801381e+06</td>\n",
       "      <td>0.000000</td>\n",
       "      <td>0.000000</td>\n",
       "      <td>1.209022e+06</td>\n",
       "      <td>0.000000e+00</td>\n",
       "      <td>0.000000</td>\n",
       "      <td>534232.484000</td>\n",
       "      <td>...</td>\n",
       "      <td>0.000000</td>\n",
       "      <td>135893.268000</td>\n",
       "      <td>0.000000</td>\n",
       "      <td>0.000000</td>\n",
       "      <td>160896.000500</td>\n",
       "      <td>94366.028500</td>\n",
       "      <td>1.964274e+06</td>\n",
       "      <td>595330.671500</td>\n",
       "      <td>285946.344000</td>\n",
       "      <td>0.000000</td>\n",
       "    </tr>\n",
       "    <tr>\n",
       "      <th>4</th>\n",
       "      <td>DNA_1</td>\n",
       "      <td>1.099924e+06</td>\n",
       "      <td>1.692689e+06</td>\n",
       "      <td>1.939275e+06</td>\n",
       "      <td>0.000000</td>\n",
       "      <td>0.000000</td>\n",
       "      <td>8.115005e+05</td>\n",
       "      <td>1.469730e+06</td>\n",
       "      <td>151710.799500</td>\n",
       "      <td>831779.149000</td>\n",
       "      <td>...</td>\n",
       "      <td>0.000000</td>\n",
       "      <td>286801.835000</td>\n",
       "      <td>0.000000</td>\n",
       "      <td>0.000000</td>\n",
       "      <td>5696.604000</td>\n",
       "      <td>0.000000</td>\n",
       "      <td>3.588674e+05</td>\n",
       "      <td>134080.794500</td>\n",
       "      <td>24494.232000</td>\n",
       "      <td>19416.798500</td>\n",
       "    </tr>\n",
       "  </tbody>\n",
       "</table>\n",
       "<p>5 rows × 468 columns</p>\n",
       "</div>"
      ],
      "text/plain": [
       "               row ID           311           342           367         394  \\\n",
       "0             row m/z  5.205089e+02  2.832633e+02  3.732949e+02  360.362659   \n",
       "1  row retention time  2.126565e+01  1.610027e+01  1.251643e+01   14.825277   \n",
       "2               Bac_1  1.331073e+06  1.625182e+06  1.948986e+06    0.000000   \n",
       "3               Bac_2  1.102021e+06  1.407239e+06  1.801381e+06    0.000000   \n",
       "4               DNA_1  1.099924e+06  1.692689e+06  1.939275e+06    0.000000   \n",
       "\n",
       "          410           425           616            683            689  ...  \\\n",
       "0  472.378724  2.311162e+02  2.992946e+02     554.514328     197.070924  ...   \n",
       "1   18.149760  4.053745e+00  1.930121e+01      20.375151      20.070147  ...   \n",
       "2    0.000000  1.339515e+06  0.000000e+00       0.000000  395330.139000  ...   \n",
       "3    0.000000  1.209022e+06  0.000000e+00       0.000000  534232.484000  ...   \n",
       "4    0.000000  8.115005e+05  1.469730e+06  151710.799500  831779.149000  ...   \n",
       "\n",
       "         1363           1365        1371        1375           1376  \\\n",
       "0  758.221544     443.233134  718.538666  452.519139     458.472201   \n",
       "1   20.247293      10.091549   18.839600   19.304242      18.488792   \n",
       "2    0.000000   70221.927000    0.000000    0.000000    2848.300000   \n",
       "3    0.000000  135893.268000    0.000000    0.000000  160896.000500   \n",
       "4    0.000000  286801.835000    0.000000    0.000000    5696.604000   \n",
       "\n",
       "           1377          1381           1382           1383          1384  \n",
       "0    200.237387  2.110865e+02     415.206237     562.435864    391.202269  \n",
       "1      8.220203  1.289716e+01      12.233278      19.868606      3.523073  \n",
       "2   5796.570000  1.883929e+05   92642.711000    7223.708000      0.000000  \n",
       "3  94366.028500  1.964274e+06  595330.671500  285946.344000      0.000000  \n",
       "4      0.000000  3.588674e+05  134080.794500   24494.232000  19416.798500  \n",
       "\n",
       "[5 rows x 468 columns]"
      ]
     },
     "execution_count": 3,
     "metadata": {},
     "output_type": "execute_result"
    }
   ],
   "source": [
    "df = pd.read_csv('For Jupiter_CSV.csv')\n",
    "\n",
    "# shows the head (first lines of the file) to observe the format\n",
    "df.head()"
   ]
  },
  {
   "cell_type": "code",
   "execution_count": 4,
   "metadata": {},
   "outputs": [
    {
     "data": {
      "text/html": [
       "<div>\n",
       "<style scoped>\n",
       "    .dataframe tbody tr th:only-of-type {\n",
       "        vertical-align: middle;\n",
       "    }\n",
       "\n",
       "    .dataframe tbody tr th {\n",
       "        vertical-align: top;\n",
       "    }\n",
       "\n",
       "    .dataframe thead th {\n",
       "        text-align: right;\n",
       "    }\n",
       "</style>\n",
       "<table border=\"1\" class=\"dataframe\">\n",
       "  <thead>\n",
       "    <tr style=\"text-align: right;\">\n",
       "      <th></th>\n",
       "      <th>filename</th>\n",
       "      <th>ATTRIBUTE_SampleCode</th>\n",
       "      <th>ATTRIBUTE_Treatment</th>\n",
       "    </tr>\n",
       "  </thead>\n",
       "  <tbody>\n",
       "    <tr>\n",
       "      <th>0</th>\n",
       "      <td>Bac1_P2-C-1_01_4635.mzXML</td>\n",
       "      <td>Bac_1</td>\n",
       "      <td>Bacteria plus medium</td>\n",
       "    </tr>\n",
       "    <tr>\n",
       "      <th>1</th>\n",
       "      <td>Bac2_P2-C-2_01_4636.mzXML</td>\n",
       "      <td>Bac_2</td>\n",
       "      <td>Bacteria plus medium</td>\n",
       "    </tr>\n",
       "    <tr>\n",
       "      <th>2</th>\n",
       "      <td>DNA1_P2-C-3_01_4638.mzXML</td>\n",
       "      <td>DNA_1</td>\n",
       "      <td>Bacteria plus medium plus DNA</td>\n",
       "    </tr>\n",
       "    <tr>\n",
       "      <th>3</th>\n",
       "      <td>DNA2_P2-C-4_01_4639.mzXML</td>\n",
       "      <td>DNA_2</td>\n",
       "      <td>Bacteria plus medium plus DNA</td>\n",
       "    </tr>\n",
       "    <tr>\n",
       "      <th>4</th>\n",
       "      <td>His1_P2-C-5_01_4641.mzXML</td>\n",
       "      <td>His_1</td>\n",
       "      <td>Bacteria plus medium plus His</td>\n",
       "    </tr>\n",
       "  </tbody>\n",
       "</table>\n",
       "</div>"
      ],
      "text/plain": [
       "                     filename ATTRIBUTE_SampleCode  \\\n",
       "0  Bac1_P2-C-1_01_4635.mzXML                 Bac_1   \n",
       "1  Bac2_P2-C-2_01_4636.mzXML                 Bac_2   \n",
       "2  DNA1_P2-C-3_01_4638.mzXML                 DNA_1   \n",
       "3  DNA2_P2-C-4_01_4639.mzXML                 DNA_2   \n",
       "4  His1_P2-C-5_01_4641.mzXML                 His_1   \n",
       "\n",
       "             ATTRIBUTE_Treatment  \n",
       "0           Bacteria plus medium  \n",
       "1           Bacteria plus medium  \n",
       "2  Bacteria plus medium plus DNA  \n",
       "3  Bacteria plus medium plus DNA  \n",
       "4  Bacteria plus medium plus His  "
      ]
     },
     "execution_count": 4,
     "metadata": {},
     "output_type": "execute_result"
    }
   ],
   "source": [
    "meta = pd.read_csv('Metadata1_noblank.tsv', sep='\\t')\n",
    "\n",
    "meta.head()"
   ]
  },
  {
   "cell_type": "code",
   "execution_count": 5,
   "metadata": {},
   "outputs": [
    {
     "data": {
      "text/plain": [
       "His_2    1\n",
       "NE_1     1\n",
       "DH_1     1\n",
       "NE_2     1\n",
       "DNA_1    1\n",
       "DNA_2    1\n",
       "DHN_2    1\n",
       "DHN_1    1\n",
       "Bac_2    1\n",
       "DH_2     1\n",
       "His_1    1\n",
       "Bac_1    1\n",
       "Name: ATTRIBUTE_SampleCode, dtype: int64"
      ]
     },
     "execution_count": 5,
     "metadata": {},
     "output_type": "execute_result"
    }
   ],
   "source": [
    "meta['ATTRIBUTE_SampleCode'].value_counts()"
   ]
  },
  {
   "cell_type": "code",
   "execution_count": 6,
   "metadata": {},
   "outputs": [
    {
     "data": {
      "text/plain": [
       "Bac    2\n",
       "His    2\n",
       "DNA    2\n",
       "NE     2\n",
       "DHN    2\n",
       "DH     2\n",
       "Name: Groups, dtype: int64"
      ]
     },
     "execution_count": 6,
     "metadata": {},
     "output_type": "execute_result"
    }
   ],
   "source": [
    "meta['Groups'] = meta['ATTRIBUTE_SampleCode'].str.replace('_.', '')\n",
    "meta['Groups'].value_counts()"
   ]
  },
  {
   "cell_type": "code",
   "execution_count": 7,
   "metadata": {},
   "outputs": [
    {
     "data": {
      "text/plain": [
       "Bacteria plus medium plus His                                  2\n",
       "Bacteria plus medium plus DNA plus Histone                     2\n",
       "Bacteria plus medium                                           2\n",
       "Bacteria plus medium plus DNA                                  2\n",
       "Bacteria plus medium plus DNA plus Histone plus Neutrophils    2\n",
       "Bacteria plus medium plus Neutrophils plus Elastase            2\n",
       "Name: ATTRIBUTE_Treatment, dtype: int64"
      ]
     },
     "execution_count": 7,
     "metadata": {},
     "output_type": "execute_result"
    }
   ],
   "source": [
    "meta['ATTRIBUTE_Treatment'].value_counts()"
   ]
  },
  {
   "cell_type": "code",
   "execution_count": 8,
   "metadata": {},
   "outputs": [
    {
     "data": {
      "text/plain": [
       "0     Bac1\n",
       "1     Bac2\n",
       "2     DNA1\n",
       "3     DNA2\n",
       "4     His1\n",
       "5     His2\n",
       "6      DH1\n",
       "7      DH2\n",
       "8     DHN1\n",
       "9     DHN2\n",
       "10     NE1\n",
       "11     NE2\n",
       "Name: filename, dtype: object"
      ]
     },
     "execution_count": 8,
     "metadata": {},
     "output_type": "execute_result"
    }
   ],
   "source": [
    "meta['filename'].str.replace('_P.+$', '')"
   ]
  },
  {
   "cell_type": "code",
   "execution_count": 9,
   "metadata": {},
   "outputs": [],
   "source": [
    "meta['filename'] = meta['filename'].str.replace('_P.+$', '')"
   ]
  },
  {
   "cell_type": "code",
   "execution_count": 10,
   "metadata": {},
   "outputs": [
    {
     "data": {
      "text/plain": [
       "0                row m/z\n",
       "1     row retention time\n",
       "2                  Bac_1\n",
       "3                  Bac_2\n",
       "4                  DNA_1\n",
       "5                  DNA_2\n",
       "6                  His_1\n",
       "7                  His_2\n",
       "8                   DH_1\n",
       "9                   DH_2\n",
       "10                 DHN_1\n",
       "11                 DHN_2\n",
       "12                  NE_1\n",
       "13                  NE_2\n",
       "Name: row ID, dtype: object"
      ]
     },
     "execution_count": 10,
     "metadata": {},
     "output_type": "execute_result"
    }
   ],
   "source": [
    "df['row ID']"
   ]
  },
  {
   "cell_type": "code",
   "execution_count": 11,
   "metadata": {},
   "outputs": [],
   "source": [
    "df['row ID'] = df['row ID'].str.replace('_.', '')"
   ]
  },
  {
   "cell_type": "code",
   "execution_count": 12,
   "metadata": {},
   "outputs": [
    {
     "data": {
      "text/plain": [
       "(14, 468)"
      ]
     },
     "execution_count": 12,
     "metadata": {},
     "output_type": "execute_result"
    }
   ],
   "source": [
    "df.shape"
   ]
  },
  {
   "cell_type": "code",
   "execution_count": 13,
   "metadata": {},
   "outputs": [
    {
     "data": {
      "text/html": [
       "<div>\n",
       "<style scoped>\n",
       "    .dataframe tbody tr th:only-of-type {\n",
       "        vertical-align: middle;\n",
       "    }\n",
       "\n",
       "    .dataframe tbody tr th {\n",
       "        vertical-align: top;\n",
       "    }\n",
       "\n",
       "    .dataframe thead th {\n",
       "        text-align: right;\n",
       "    }\n",
       "</style>\n",
       "<table border=\"1\" class=\"dataframe\">\n",
       "  <thead>\n",
       "    <tr style=\"text-align: right;\">\n",
       "      <th></th>\n",
       "      <th>row ID</th>\n",
       "      <th>311</th>\n",
       "      <th>342</th>\n",
       "      <th>367</th>\n",
       "      <th>394</th>\n",
       "      <th>410</th>\n",
       "      <th>425</th>\n",
       "      <th>616</th>\n",
       "      <th>683</th>\n",
       "      <th>689</th>\n",
       "      <th>...</th>\n",
       "      <th>1363</th>\n",
       "      <th>1365</th>\n",
       "      <th>1371</th>\n",
       "      <th>1375</th>\n",
       "      <th>1376</th>\n",
       "      <th>1377</th>\n",
       "      <th>1381</th>\n",
       "      <th>1382</th>\n",
       "      <th>1383</th>\n",
       "      <th>1384</th>\n",
       "    </tr>\n",
       "  </thead>\n",
       "  <tbody>\n",
       "    <tr>\n",
       "      <th>2</th>\n",
       "      <td>Bac</td>\n",
       "      <td>1.331073e+06</td>\n",
       "      <td>1625181.576</td>\n",
       "      <td>1948986.360</td>\n",
       "      <td>0.0</td>\n",
       "      <td>0.000</td>\n",
       "      <td>1339514.598</td>\n",
       "      <td>0.000000e+00</td>\n",
       "      <td>0.0000</td>\n",
       "      <td>395330.1390</td>\n",
       "      <td>...</td>\n",
       "      <td>0.0000</td>\n",
       "      <td>70221.9270</td>\n",
       "      <td>0.00</td>\n",
       "      <td>0.0</td>\n",
       "      <td>2848.3000</td>\n",
       "      <td>5796.5700</td>\n",
       "      <td>1.883929e+05</td>\n",
       "      <td>92642.7110</td>\n",
       "      <td>7223.708</td>\n",
       "      <td>0.0000</td>\n",
       "    </tr>\n",
       "    <tr>\n",
       "      <th>3</th>\n",
       "      <td>Bac</td>\n",
       "      <td>1.102021e+06</td>\n",
       "      <td>1407239.033</td>\n",
       "      <td>1801381.370</td>\n",
       "      <td>0.0</td>\n",
       "      <td>0.000</td>\n",
       "      <td>1209022.274</td>\n",
       "      <td>0.000000e+00</td>\n",
       "      <td>0.0000</td>\n",
       "      <td>534232.4840</td>\n",
       "      <td>...</td>\n",
       "      <td>0.0000</td>\n",
       "      <td>135893.2680</td>\n",
       "      <td>0.00</td>\n",
       "      <td>0.0</td>\n",
       "      <td>160896.0005</td>\n",
       "      <td>94366.0285</td>\n",
       "      <td>1.964274e+06</td>\n",
       "      <td>595330.6715</td>\n",
       "      <td>285946.344</td>\n",
       "      <td>0.0000</td>\n",
       "    </tr>\n",
       "    <tr>\n",
       "      <th>4</th>\n",
       "      <td>DNA</td>\n",
       "      <td>1.099924e+06</td>\n",
       "      <td>1692689.109</td>\n",
       "      <td>1939275.127</td>\n",
       "      <td>0.0</td>\n",
       "      <td>0.000</td>\n",
       "      <td>811500.520</td>\n",
       "      <td>1.469730e+06</td>\n",
       "      <td>151710.7995</td>\n",
       "      <td>831779.1490</td>\n",
       "      <td>...</td>\n",
       "      <td>0.0000</td>\n",
       "      <td>286801.8350</td>\n",
       "      <td>0.00</td>\n",
       "      <td>0.0</td>\n",
       "      <td>5696.6040</td>\n",
       "      <td>0.0000</td>\n",
       "      <td>3.588674e+05</td>\n",
       "      <td>134080.7945</td>\n",
       "      <td>24494.232</td>\n",
       "      <td>19416.7985</td>\n",
       "    </tr>\n",
       "    <tr>\n",
       "      <th>5</th>\n",
       "      <td>DNA</td>\n",
       "      <td>1.003000e+06</td>\n",
       "      <td>1785769.283</td>\n",
       "      <td>1909252.746</td>\n",
       "      <td>0.0</td>\n",
       "      <td>0.000</td>\n",
       "      <td>1147134.933</td>\n",
       "      <td>1.040591e+05</td>\n",
       "      <td>149401.4060</td>\n",
       "      <td>878888.3795</td>\n",
       "      <td>...</td>\n",
       "      <td>0.0000</td>\n",
       "      <td>39094.7960</td>\n",
       "      <td>0.00</td>\n",
       "      <td>0.0</td>\n",
       "      <td>2848.3000</td>\n",
       "      <td>0.0000</td>\n",
       "      <td>3.743230e+05</td>\n",
       "      <td>151746.5645</td>\n",
       "      <td>43740.177</td>\n",
       "      <td>7638.2350</td>\n",
       "    </tr>\n",
       "    <tr>\n",
       "      <th>6</th>\n",
       "      <td>His</td>\n",
       "      <td>4.791604e+05</td>\n",
       "      <td>1890944.968</td>\n",
       "      <td>2688387.706</td>\n",
       "      <td>0.0</td>\n",
       "      <td>103252.515</td>\n",
       "      <td>0.000</td>\n",
       "      <td>2.043671e+06</td>\n",
       "      <td>60026.6950</td>\n",
       "      <td>878179.4215</td>\n",
       "      <td>...</td>\n",
       "      <td>167585.1125</td>\n",
       "      <td>23578.6925</td>\n",
       "      <td>124778.45</td>\n",
       "      <td>0.0</td>\n",
       "      <td>0.0000</td>\n",
       "      <td>0.0000</td>\n",
       "      <td>1.426708e+06</td>\n",
       "      <td>595759.5110</td>\n",
       "      <td>133853.917</td>\n",
       "      <td>701022.1010</td>\n",
       "    </tr>\n",
       "  </tbody>\n",
       "</table>\n",
       "<p>5 rows × 468 columns</p>\n",
       "</div>"
      ],
      "text/plain": [
       "  row ID           311          342          367  394         410  \\\n",
       "2    Bac  1.331073e+06  1625181.576  1948986.360  0.0       0.000   \n",
       "3    Bac  1.102021e+06  1407239.033  1801381.370  0.0       0.000   \n",
       "4    DNA  1.099924e+06  1692689.109  1939275.127  0.0       0.000   \n",
       "5    DNA  1.003000e+06  1785769.283  1909252.746  0.0       0.000   \n",
       "6    His  4.791604e+05  1890944.968  2688387.706  0.0  103252.515   \n",
       "\n",
       "           425           616          683          689  ...         1363  \\\n",
       "2  1339514.598  0.000000e+00       0.0000  395330.1390  ...       0.0000   \n",
       "3  1209022.274  0.000000e+00       0.0000  534232.4840  ...       0.0000   \n",
       "4   811500.520  1.469730e+06  151710.7995  831779.1490  ...       0.0000   \n",
       "5  1147134.933  1.040591e+05  149401.4060  878888.3795  ...       0.0000   \n",
       "6        0.000  2.043671e+06   60026.6950  878179.4215  ...  167585.1125   \n",
       "\n",
       "          1365       1371  1375         1376        1377          1381  \\\n",
       "2   70221.9270       0.00   0.0    2848.3000   5796.5700  1.883929e+05   \n",
       "3  135893.2680       0.00   0.0  160896.0005  94366.0285  1.964274e+06   \n",
       "4  286801.8350       0.00   0.0    5696.6040      0.0000  3.588674e+05   \n",
       "5   39094.7960       0.00   0.0    2848.3000      0.0000  3.743230e+05   \n",
       "6   23578.6925  124778.45   0.0       0.0000      0.0000  1.426708e+06   \n",
       "\n",
       "          1382        1383         1384  \n",
       "2   92642.7110    7223.708       0.0000  \n",
       "3  595330.6715  285946.344       0.0000  \n",
       "4  134080.7945   24494.232   19416.7985  \n",
       "5  151746.5645   43740.177    7638.2350  \n",
       "6  595759.5110  133853.917  701022.1010  \n",
       "\n",
       "[5 rows x 468 columns]"
      ]
     },
     "execution_count": 13,
     "metadata": {},
     "output_type": "execute_result"
    }
   ],
   "source": [
    "df.drop([0, 1], inplace=True)\n",
    "df.head()"
   ]
  },
  {
   "cell_type": "code",
   "execution_count": 14,
   "metadata": {},
   "outputs": [],
   "source": [
    "df_mean = df.groupby('row ID').mean()"
   ]
  },
  {
   "cell_type": "code",
   "execution_count": 15,
   "metadata": {},
   "outputs": [
    {
     "data": {
      "text/html": [
       "<div>\n",
       "<style scoped>\n",
       "    .dataframe tbody tr th:only-of-type {\n",
       "        vertical-align: middle;\n",
       "    }\n",
       "\n",
       "    .dataframe tbody tr th {\n",
       "        vertical-align: top;\n",
       "    }\n",
       "\n",
       "    .dataframe thead th {\n",
       "        text-align: right;\n",
       "    }\n",
       "</style>\n",
       "<table border=\"1\" class=\"dataframe\">\n",
       "  <thead>\n",
       "    <tr style=\"text-align: right;\">\n",
       "      <th></th>\n",
       "      <th>311</th>\n",
       "      <th>342</th>\n",
       "      <th>367</th>\n",
       "      <th>394</th>\n",
       "      <th>410</th>\n",
       "      <th>425</th>\n",
       "      <th>616</th>\n",
       "      <th>683</th>\n",
       "      <th>689</th>\n",
       "      <th>692</th>\n",
       "      <th>...</th>\n",
       "      <th>1363</th>\n",
       "      <th>1365</th>\n",
       "      <th>1371</th>\n",
       "      <th>1375</th>\n",
       "      <th>1376</th>\n",
       "      <th>1377</th>\n",
       "      <th>1381</th>\n",
       "      <th>1382</th>\n",
       "      <th>1383</th>\n",
       "      <th>1384</th>\n",
       "    </tr>\n",
       "    <tr>\n",
       "      <th>row ID</th>\n",
       "      <th></th>\n",
       "      <th></th>\n",
       "      <th></th>\n",
       "      <th></th>\n",
       "      <th></th>\n",
       "      <th></th>\n",
       "      <th></th>\n",
       "      <th></th>\n",
       "      <th></th>\n",
       "      <th></th>\n",
       "      <th></th>\n",
       "      <th></th>\n",
       "      <th></th>\n",
       "      <th></th>\n",
       "      <th></th>\n",
       "      <th></th>\n",
       "      <th></th>\n",
       "      <th></th>\n",
       "      <th></th>\n",
       "      <th></th>\n",
       "      <th></th>\n",
       "    </tr>\n",
       "  </thead>\n",
       "  <tbody>\n",
       "    <tr>\n",
       "      <th>Bac</th>\n",
       "      <td>1.216547e+06</td>\n",
       "      <td>1.516210e+06</td>\n",
       "      <td>1.875184e+06</td>\n",
       "      <td>0.0</td>\n",
       "      <td>0.0000</td>\n",
       "      <td>1.274268e+06</td>\n",
       "      <td>0.000000e+00</td>\n",
       "      <td>0.00000</td>\n",
       "      <td>4.647813e+05</td>\n",
       "      <td>1.362898e+06</td>\n",
       "      <td>...</td>\n",
       "      <td>0.00000</td>\n",
       "      <td>103057.59750</td>\n",
       "      <td>0.00000</td>\n",
       "      <td>0.00000</td>\n",
       "      <td>81872.15025</td>\n",
       "      <td>50081.29925</td>\n",
       "      <td>1.076333e+06</td>\n",
       "      <td>343986.69125</td>\n",
       "      <td>146585.0260</td>\n",
       "      <td>0.00000</td>\n",
       "    </tr>\n",
       "    <tr>\n",
       "      <th>DH</th>\n",
       "      <td>7.302514e+05</td>\n",
       "      <td>2.010267e+06</td>\n",
       "      <td>2.535525e+06</td>\n",
       "      <td>0.0</td>\n",
       "      <td>0.0000</td>\n",
       "      <td>0.000000e+00</td>\n",
       "      <td>8.325631e+05</td>\n",
       "      <td>100201.00325</td>\n",
       "      <td>1.347539e+06</td>\n",
       "      <td>3.562456e+06</td>\n",
       "      <td>...</td>\n",
       "      <td>0.00000</td>\n",
       "      <td>79192.63425</td>\n",
       "      <td>187167.66450</td>\n",
       "      <td>29877.79575</td>\n",
       "      <td>136784.89850</td>\n",
       "      <td>8694.85550</td>\n",
       "      <td>2.648769e+05</td>\n",
       "      <td>146763.14575</td>\n",
       "      <td>33364.6630</td>\n",
       "      <td>525003.18075</td>\n",
       "    </tr>\n",
       "    <tr>\n",
       "      <th>DHN</th>\n",
       "      <td>1.491770e+06</td>\n",
       "      <td>2.304568e+06</td>\n",
       "      <td>2.293068e+06</td>\n",
       "      <td>0.0</td>\n",
       "      <td>0.0000</td>\n",
       "      <td>0.000000e+00</td>\n",
       "      <td>2.057651e+06</td>\n",
       "      <td>234987.41575</td>\n",
       "      <td>1.611148e+06</td>\n",
       "      <td>5.119908e+06</td>\n",
       "      <td>...</td>\n",
       "      <td>116059.32925</td>\n",
       "      <td>37300.06150</td>\n",
       "      <td>0.00000</td>\n",
       "      <td>18560.02275</td>\n",
       "      <td>23267.60175</td>\n",
       "      <td>0.00000</td>\n",
       "      <td>3.232418e+05</td>\n",
       "      <td>217791.31675</td>\n",
       "      <td>45272.8025</td>\n",
       "      <td>66937.65325</td>\n",
       "    </tr>\n",
       "    <tr>\n",
       "      <th>DNA</th>\n",
       "      <td>1.051462e+06</td>\n",
       "      <td>1.739229e+06</td>\n",
       "      <td>1.924264e+06</td>\n",
       "      <td>0.0</td>\n",
       "      <td>0.0000</td>\n",
       "      <td>9.793177e+05</td>\n",
       "      <td>7.868945e+05</td>\n",
       "      <td>150556.10275</td>\n",
       "      <td>8.553338e+05</td>\n",
       "      <td>2.482112e+06</td>\n",
       "      <td>...</td>\n",
       "      <td>0.00000</td>\n",
       "      <td>162948.31550</td>\n",
       "      <td>0.00000</td>\n",
       "      <td>0.00000</td>\n",
       "      <td>4272.45200</td>\n",
       "      <td>0.00000</td>\n",
       "      <td>3.665952e+05</td>\n",
       "      <td>142913.67950</td>\n",
       "      <td>34117.2045</td>\n",
       "      <td>13527.51675</td>\n",
       "    </tr>\n",
       "    <tr>\n",
       "      <th>His</th>\n",
       "      <td>4.653838e+05</td>\n",
       "      <td>1.975109e+06</td>\n",
       "      <td>2.589933e+06</td>\n",
       "      <td>0.0</td>\n",
       "      <td>95758.3975</td>\n",
       "      <td>0.000000e+00</td>\n",
       "      <td>1.822820e+06</td>\n",
       "      <td>63921.62850</td>\n",
       "      <td>1.116989e+06</td>\n",
       "      <td>2.837464e+06</td>\n",
       "      <td>...</td>\n",
       "      <td>122479.00625</td>\n",
       "      <td>386366.95525</td>\n",
       "      <td>337556.31625</td>\n",
       "      <td>0.00000</td>\n",
       "      <td>0.00000</td>\n",
       "      <td>0.00000</td>\n",
       "      <td>8.953293e+05</td>\n",
       "      <td>412946.92800</td>\n",
       "      <td>80458.8810</td>\n",
       "      <td>442053.84600</td>\n",
       "    </tr>\n",
       "  </tbody>\n",
       "</table>\n",
       "<p>5 rows × 467 columns</p>\n",
       "</div>"
      ],
      "text/plain": [
       "                 311           342           367  394         410  \\\n",
       "row ID                                                              \n",
       "Bac     1.216547e+06  1.516210e+06  1.875184e+06  0.0      0.0000   \n",
       "DH      7.302514e+05  2.010267e+06  2.535525e+06  0.0      0.0000   \n",
       "DHN     1.491770e+06  2.304568e+06  2.293068e+06  0.0      0.0000   \n",
       "DNA     1.051462e+06  1.739229e+06  1.924264e+06  0.0      0.0000   \n",
       "His     4.653838e+05  1.975109e+06  2.589933e+06  0.0  95758.3975   \n",
       "\n",
       "                 425           616           683           689           692  \\\n",
       "row ID                                                                         \n",
       "Bac     1.274268e+06  0.000000e+00       0.00000  4.647813e+05  1.362898e+06   \n",
       "DH      0.000000e+00  8.325631e+05  100201.00325  1.347539e+06  3.562456e+06   \n",
       "DHN     0.000000e+00  2.057651e+06  234987.41575  1.611148e+06  5.119908e+06   \n",
       "DNA     9.793177e+05  7.868945e+05  150556.10275  8.553338e+05  2.482112e+06   \n",
       "His     0.000000e+00  1.822820e+06   63921.62850  1.116989e+06  2.837464e+06   \n",
       "\n",
       "        ...          1363          1365          1371         1375  \\\n",
       "row ID  ...                                                          \n",
       "Bac     ...       0.00000  103057.59750       0.00000      0.00000   \n",
       "DH      ...       0.00000   79192.63425  187167.66450  29877.79575   \n",
       "DHN     ...  116059.32925   37300.06150       0.00000  18560.02275   \n",
       "DNA     ...       0.00000  162948.31550       0.00000      0.00000   \n",
       "His     ...  122479.00625  386366.95525  337556.31625      0.00000   \n",
       "\n",
       "                1376         1377          1381          1382         1383  \\\n",
       "row ID                                                                       \n",
       "Bac      81872.15025  50081.29925  1.076333e+06  343986.69125  146585.0260   \n",
       "DH      136784.89850   8694.85550  2.648769e+05  146763.14575   33364.6630   \n",
       "DHN      23267.60175      0.00000  3.232418e+05  217791.31675   45272.8025   \n",
       "DNA       4272.45200      0.00000  3.665952e+05  142913.67950   34117.2045   \n",
       "His          0.00000      0.00000  8.953293e+05  412946.92800   80458.8810   \n",
       "\n",
       "                1384  \n",
       "row ID                \n",
       "Bac          0.00000  \n",
       "DH      525003.18075  \n",
       "DHN      66937.65325  \n",
       "DNA      13527.51675  \n",
       "His     442053.84600  \n",
       "\n",
       "[5 rows x 467 columns]"
      ]
     },
     "execution_count": 15,
     "metadata": {},
     "output_type": "execute_result"
    }
   ],
   "source": [
    "df_mean.head()"
   ]
  },
  {
   "cell_type": "code",
   "execution_count": 16,
   "metadata": {},
   "outputs": [
    {
     "data": {
      "text/plain": [
       "(6, 467)"
      ]
     },
     "execution_count": 16,
     "metadata": {},
     "output_type": "execute_result"
    }
   ],
   "source": [
    "df_mean.shape"
   ]
  },
  {
   "cell_type": "code",
   "execution_count": 17,
   "metadata": {},
   "outputs": [],
   "source": [
    "idx_var = df_mean.apply(lambda a: np.std(a))"
   ]
  },
  {
   "cell_type": "code",
   "execution_count": 55,
   "metadata": {},
   "outputs": [],
   "source": [
    "five_most_variable = idx_var.sort_values()[:5].index.tolist()"
   ]
  },
  {
   "cell_type": "code",
   "execution_count": 56,
   "metadata": {},
   "outputs": [
    {
     "data": {
      "text/plain": [
       "['1357', '1270', '1281', '1176', '1192']"
      ]
     },
     "execution_count": 56,
     "metadata": {},
     "output_type": "execute_result"
    }
   ],
   "source": [
    "five_most_variable"
   ]
  },
  {
   "cell_type": "code",
   "execution_count": 57,
   "metadata": {},
   "outputs": [
    {
     "data": {
      "text/plain": [
       "<matplotlib.axes._subplots.AxesSubplot at 0x12f5cd278d0>"
      ]
     },
     "execution_count": 57,
     "metadata": {},
     "output_type": "execute_result"
    },
    {
     "data": {
      "image/png": "[encoded data removed]",
      "text/plain": [
       "<Figure size 1152x576 with 1 Axes>"
      ]
     },
     "metadata": {
      "needs_background": "light"
     },
     "output_type": "display_data"
    }
   ],
   "source": [
    "df_mean.loc[:, five_most_variable].plot.bar(rot=0, figsize=(16,8))"
   ]
  },
  {
   "cell_type": "code",
   "execution_count": 58,
   "metadata": {},
   "outputs": [],
   "source": [
    "idx_dh = df_mean.apply(lambda a: sum(a['DH'] > a[a.index!='DH'])==12)\n",
    "idx_dh_max = df_mean.loc['DH', idx_dh].sort_values()[:5].index.tolist()"
   ]
  },
  {
   "cell_type": "code",
   "execution_count": 59,
   "metadata": {},
   "outputs": [
    {
     "data": {
      "text/plain": [
       "[]"
      ]
     },
     "execution_count": 59,
     "metadata": {},
     "output_type": "execute_result"
    }
   ],
   "source": [
    "idx_dh_max"
   ]
  },
  {
   "cell_type": "code",
   "execution_count": null,
   "metadata": {},
   "outputs": [],
   "source": []
  }
 ],
 "metadata": {
  "kernelspec": {
   "display_name": "Python 3",
   "language": "python",
   "name": "python3"
  },
  "language_info": {
   "codemirror_mode": {
    "name": "ipython",
    "version": 3
   },
   "file_extension": ".py",
   "mimetype": "text/x-python",
   "name": "python",
   "nbconvert_exporter": "python",
   "pygments_lexer": "ipython3",
   "version": "3.7.3"
  }
 },
 "nbformat": 4,
 "nbformat_minor": 2
}
